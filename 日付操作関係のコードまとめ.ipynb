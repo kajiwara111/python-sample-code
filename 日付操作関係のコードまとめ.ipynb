{
 "cells": [
  {
   "cell_type": "markdown",
   "metadata": {},
   "source": [
    "## 日付関連のサンプルコード"
   ]
  },
  {
   "cell_type": "code",
   "execution_count": 3,
   "metadata": {},
   "outputs": [
    {
     "name": "stdout",
     "output_type": "stream",
     "text": [
      "today:  2019-12-03\n",
      "tomorrow -> 2019-12-04\n",
      "yesterday -> 2019-12-02\n",
      "one_month_after -> 2020-01-03\n",
      "one_month_ago -> 2019-11-03\n",
      "2019-12-01\n",
      "2019-12-31\n",
      "relativedelta(years=+10, months=+8)\n",
      "10\n",
      "8\n",
      "128\n"
     ]
    }
   ],
   "source": [
    "from datetime import datetime, date, timedelta\n",
    "from dateutil.relativedelta import relativedelta\n",
    "\n",
    "#本日\n",
    "today = datetime.today()\n",
    "print('today: ', datetime.strftime(today, '%Y-%m-%d'))\n",
    "\n",
    "#明日\n",
    "tomorrow = today + timedelta(days=1)\n",
    "\n",
    "#昨日\n",
    "yesterday = today - timedelta(days=1)\n",
    "\n",
    "print(\"tomorrow -> \" + datetime.strftime(tomorrow, '%Y-%m-%d'))\n",
    "print(\"yesterday -> \" + datetime.strftime(yesterday, '%Y-%m-%d'))\n",
    "\n",
    "\n",
    "#月単位の演算\n",
    "one_month_after = today + relativedelta(months=1)\n",
    "one_month_ago = today - relativedelta(months=1)\n",
    "\n",
    "print(\"one_month_after -> \" + datetime.strftime(one_month_after, '%Y-%m-%d'))\n",
    "print(\"one_month_ago -> \" + datetime.strftime(one_month_ago, '%Y-%m-%d'))\n",
    "\n",
    "#今月の１日\n",
    "first_day = today.replace(day=1)\n",
    "print(datetime.strftime(first_day, '%Y-%m-%d'))\n",
    "\n",
    "#今月の月末\n",
    "last_day = (today + relativedelta(months=1)).replace(day=1) - timedelta(days=1)\n",
    "print(datetime.strftime(last_day, '%Y-%m-%d'))\n",
    "\n",
    "#datetimeオブジェクトのreplace()メソッドにday=◯を指定することでその値を置き換えられる\n",
    "#calenderパッケージを使えばもっと楽にできる\n",
    "\n",
    "\n",
    "#relartivedeltaによる日付の差計算\n",
    "d1 = date(2001,5,1)\n",
    "d2 = date(2012,1,1)\n",
    "rd = relativedelta(d2,d1)\n",
    "print(rd)\n",
    "print(rd.years) #差分の年を取得\n",
    "print(rd.months) #差分の月を取得\n",
    "\n",
    "#差分を月数に変換\n",
    "print(rd.years * 12 + rd.months)"
   ]
  },
  {
   "cell_type": "code",
   "execution_count": null,
   "metadata": {},
   "outputs": [],
   "source": []
  }
 ],
 "metadata": {
  "kernelspec": {
   "display_name": "Python 3",
   "language": "python",
   "name": "python3"
  },
  "language_info": {
   "codemirror_mode": {
    "name": "ipython",
    "version": 3
   },
   "file_extension": ".py",
   "mimetype": "text/x-python",
   "name": "python",
   "nbconvert_exporter": "python",
   "pygments_lexer": "ipython3",
   "version": "3.7.5"
  }
 },
 "nbformat": 4,
 "nbformat_minor": 2
}
